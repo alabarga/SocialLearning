{
 "metadata": {
  "name": ""
 },
 "nbformat": 3,
 "nbformat_minor": 0,
 "worksheets": [
  {
   "cells": [
    {
     "cell_type": "code",
     "collapsed": false,
     "input": [
      "import readability"
     ],
     "language": "python",
     "metadata": {},
     "outputs": [],
     "prompt_number": 3
    },
    {
     "cell_type": "code",
     "collapsed": false,
     "input": [
      "parser = readability.ParserClient('03b5d5676456982e868cf57e5b6757f198ef479d')"
     ],
     "language": "python",
     "metadata": {},
     "outputs": [],
     "prompt_number": 4
    },
    {
     "cell_type": "code",
     "collapsed": false,
     "input": [
      "url = 'http://www.enginetechnologyinternational.com//news.php?NewsID=63523'"
     ],
     "language": "python",
     "metadata": {},
     "outputs": [],
     "prompt_number": 5
    },
    {
     "cell_type": "code",
     "collapsed": false,
     "input": [
      "response = parser.get_article_content(url.encode('utf-8')).content"
     ],
     "language": "python",
     "metadata": {},
     "outputs": [],
     "prompt_number": 6
    },
    {
     "cell_type": "code",
     "collapsed": false,
     "input": [
      "from IPython.display import HTML"
     ],
     "language": "python",
     "metadata": {},
     "outputs": [],
     "prompt_number": 7
    },
    {
     "cell_type": "code",
     "collapsed": false,
     "input": [
      "HTML('<a href=\"'+ url+'\" >' + url + '</a>')"
     ],
     "language": "python",
     "metadata": {},
     "outputs": [
      {
       "html": [
        "<a href=\"http://www.enginetechnologyinternational.com//news.php?NewsID=63523\" >http://www.enginetechnologyinternational.com//news.php?NewsID=63523</a>"
       ],
       "metadata": {},
       "output_type": "pyout",
       "prompt_number": 8,
       "text": [
        "<IPython.core.display.HTML at 0x7f744a18b350>"
       ]
      }
     ],
     "prompt_number": 8
    },
    {
     "cell_type": "code",
     "collapsed": false,
     "input": [
      "HTML(response['content'])"
     ],
     "language": "python",
     "metadata": {},
     "outputs": [
      {
       "html": [
        "<div><div id=\"contentleft\">\n",
        "\t\t\t\t\t\t\t\n",
        "\t\t\t<div class=\"element el_mid\">\n",
        "\t\t\t\t\n",
        "\n",
        "\n",
        "\t\t\t\t\t\t\t\t\t\t\t\t\t\t\t\t\t<p><strong>BorgWarner supplies R2S turbocharging technology for Volvo&#x2019;s new engine platform</strong></p>\n",
        "\n",
        "\t\t\t\t\t<p>BorgWarner&#x2019;s award-winning regulated two-stage turbocharging (R2S) technology boosts the 2-liter diesel engine for Volvo&#x2019;s new Drive-E powertrain family. Available for nearly all Volvo models, the fuel-efficient four-cylinder engine achieves an output of 192ps (140kW) and a maximum torque of 400Nm. BorgWarner&#x2019;s R2S turbocharging technology helps the engine set new standards of efficiency and performance. In the Volvo V40 D4, the BorgWarner-boosted engine helps improve fuel economy and reduce emissions, achieving an average fuel consumption of 3.3l/100 km and reducing carbon dioxide emissions to only 85 g/km.</p>\n",
        "\n",
        "<p><img src=\"http://cms.ukintpress.com/UserFiles/BORGWARNER_VOLVO_R2S.jpg\" width=\"300\" vspace=\"5\" hspace=\"5\" border=\"1\" alt=\"\"></p>\n",
        "<p>&#x201C;BorgWarner&#x2019;s R2S technology is a key enabler for downsizing diesel engines, helping automakers comply with upcoming emissions regulations while maintaining high engine output,&#x201D; says Fr&#xE9;d&#xE9;ric Lissalde, president and general manager of BorgWarner Turbo Systems. &#x201C;We appreciate our long-term partnership with Volvo Cars and are very proud that Volvo chose BorgWarner&#x2019;s advanced turbocharging technology for its new high-volume, clean diesel engine. Our many years of turbocharger development and production experience help automakers around the world offer fuel-efficient engines that deliver an outstanding fun-to-drive experience.&#x201D;</p>\n",
        "<p>BorgWarner&#x2019;s R2S turbocharging technology combines two turbochargers of different sizes to allow the turbine and compressor sides of the system to continuously adapt and deliver high boost pressures over the entire engine speed range. At low engine speeds, the entire exhaust gas flow is directed to the smaller, high-pressure turbocharger, resulting in a quick rise in boost pressure. At higher engine speeds, the wastegate valve opens, and the exhaust gas is redirected to the larger, low-pressure turbocharger. By optimizing the full engine speed range, the R2S system helps improve fuel economy and reduce emissions while enhancing performance.</p>\t\t\t\t\t\n",
        "\n",
        "\t\t\t\t\t\n",
        "\t\t\t\t\n",
        "\t\t\t\t\n",
        "\t\t\t\t<br class=\"breaker\">\n",
        "\t\t\t\t\n",
        "                 <div><img src=\"http://www.enginetechnologyinternational.com//images/mid_btm_curve.gif\"></div>\n",
        "\t\t\t</div>\t\t\t\t\t\t\t\n",
        "\t\t\t\n",
        "\t\t\t\t\t\t\t\t\t\t\t\t\t\t\t\t\t\t\t\t\t\t\t\t\n",
        "\t\t\t\t\t\t\t\t\t\t\t\t\t\t\t\t\t\t\t\t\t\t\t\t\t\t</div>\n",
        "\n",
        "\t\t\n",
        "\n",
        "\t\t</div>"
       ],
       "metadata": {},
       "output_type": "pyout",
       "prompt_number": 9,
       "text": [
        "<IPython.core.display.HTML at 0x7f744a18b250>"
       ]
      }
     ],
     "prompt_number": 9
    },
    {
     "cell_type": "code",
     "collapsed": false,
     "input": [
      "for key in response.keys():\n",
      "    if key != 'content':\n",
      "        print \"%s: %s\" % (key,response[key])"
     ],
     "language": "python",
     "metadata": {},
     "outputs": [
      {
       "output_type": "stream",
       "stream": "stdout",
       "text": [
        "domain: www.enginetechnologyinternational.com\n",
        "author: None\n",
        "url: http://www.enginetechnologyinternational.com//news.php?NewsID=63523\n",
        "short_url: http://rdd.me/zpn2cmxb\n",
        "title: Latest News\n",
        "excerpt: BorgWarner supplies R2S turbocharging technology for Volvo&#x2019;s new engine platform BorgWarner&#x2019;s award-winning regulated two-stage turbocharging (R2S) technology boosts the 2-liter diesel&hellip;\n",
        "direction: ltr\n",
        "word_count: 275\n",
        "total_pages: 0\n",
        "next_page_id: None\n",
        "dek: None\n",
        "lead_image_url: http://cms.ukintpress.com/UserFiles/BORGWARNER_VOLVO_R2S.jpg\n",
        "rendered_pages: 1\n",
        "date_published: None\n"
       ]
      }
     ],
     "prompt_number": 10
    },
    {
     "cell_type": "code",
     "collapsed": false,
     "input": [
      "from ftfy import fix_text"
     ],
     "language": "python",
     "metadata": {},
     "outputs": [],
     "prompt_number": 11
    },
    {
     "cell_type": "code",
     "collapsed": false,
     "input": [
      "print fix_text(response['excerpt'])"
     ],
     "language": "python",
     "metadata": {},
     "outputs": [
      {
       "output_type": "stream",
       "stream": "stdout",
       "text": [
        "BorgWarner supplies R2S turbocharging technology for Volvo's new engine platform BorgWarner's award-winning regulated two-stage turbocharging (R2S) technology boosts the 2-liter diesel...\n"
       ]
      }
     ],
     "prompt_number": 12
    },
    {
     "cell_type": "code",
     "collapsed": false,
     "input": [],
     "language": "python",
     "metadata": {},
     "outputs": []
    }
   ],
   "metadata": {}
  }
 ]
}