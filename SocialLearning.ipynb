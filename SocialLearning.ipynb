{
 "metadata": {
  "name": ""
 },
 "nbformat": 3,
 "nbformat_minor": 0,
 "worksheets": [
  {
   "cells": [
    {
     "cell_type": "code",
     "collapsed": false,
     "input": [
      "from ftfy import fix_text, guess_bytes"
     ],
     "language": "python",
     "metadata": {},
     "outputs": [],
     "prompt_number": 1
    },
    {
     "cell_type": "code",
     "collapsed": false,
     "input": [
      "from IPython.display import HTML"
     ],
     "language": "python",
     "metadata": {},
     "outputs": [],
     "prompt_number": 2
    },
    {
     "cell_type": "code",
     "collapsed": false,
     "input": [
      "import readability"
     ],
     "language": "python",
     "metadata": {},
     "outputs": [],
     "prompt_number": 3
    },
    {
     "cell_type": "code",
     "collapsed": false,
     "input": [
      "from goose import Goose"
     ],
     "language": "python",
     "metadata": {},
     "outputs": [],
     "prompt_number": 4
    },
    {
     "cell_type": "code",
     "collapsed": false,
     "input": [
      "from pyteaser import SummarizeUrl"
     ],
     "language": "python",
     "metadata": {},
     "outputs": [],
     "prompt_number": 5
    },
    {
     "cell_type": "code",
     "collapsed": false,
     "input": [
      "import slate"
     ],
     "language": "python",
     "metadata": {},
     "outputs": [],
     "prompt_number": 8
    },
    {
     "cell_type": "code",
     "collapsed": false,
     "input": [
      "import requests"
     ],
     "language": "python",
     "metadata": {},
     "outputs": [],
     "prompt_number": 11
    },
    {
     "cell_type": "code",
     "collapsed": false,
     "input": [],
     "language": "python",
     "metadata": {},
     "outputs": [
      {
       "ename": "ImportError",
       "evalue": "No module named learningobjects.utils",
       "output_type": "pyerr",
       "traceback": [
        "\u001b[1;31m---------------------------------------------------------------------------\u001b[0m\n\u001b[1;31mImportError\u001b[0m                               Traceback (most recent call last)",
        "\u001b[1;32m<ipython-input-60-31d75d802f18>\u001b[0m in \u001b[0;36m<module>\u001b[1;34m()\u001b[0m\n\u001b[1;32m----> 1\u001b[1;33m \u001b[1;32mfrom\u001b[0m \u001b[0mlearningobjects\u001b[0m\u001b[1;33m.\u001b[0m\u001b[0mutils\u001b[0m \u001b[1;32mimport\u001b[0m \u001b[0mfeedfinder\u001b[0m\u001b[1;33m\u001b[0m\u001b[0m\n\u001b[0m",
        "\u001b[1;31mImportError\u001b[0m: No module named learningobjects.utils"
       ]
      }
     ],
     "prompt_number": 60
    },
    {
     "cell_type": "code",
     "collapsed": false,
     "input": [
      "rdd = readability.ParserClient('03b5d5676456982e868cf57e5b6757f198ef479d')"
     ],
     "language": "python",
     "metadata": {},
     "outputs": [],
     "prompt_number": 39
    },
    {
     "cell_type": "code",
     "collapsed": false,
     "input": [
      "url = 'http://www.enginetechnologyinternational.com//news.php?NewsID=62983'"
     ],
     "language": "python",
     "metadata": {},
     "outputs": [],
     "prompt_number": 36
    },
    {
     "cell_type": "code",
     "collapsed": false,
     "input": [
      "r = requests.head(url)\n",
      "r.headers[\"content-type\"]"
     ],
     "language": "python",
     "metadata": {},
     "outputs": [
      {
       "metadata": {},
       "output_type": "pyout",
       "prompt_number": 37,
       "text": [
        "'text/html'"
       ]
      }
     ],
     "prompt_number": 37
    },
    {
     "cell_type": "code",
     "collapsed": false,
     "input": [
      "if 'application/pdf' in r.headers[\"content-type\"]:\n",
      "    r = requests.get(url)\n",
      "    with open(\"test.pdf\", \"wb\") as f:\n",
      "        f.write(r.content)\n"
     ],
     "language": "python",
     "metadata": {},
     "outputs": [],
     "prompt_number": 22
    },
    {
     "cell_type": "code",
     "collapsed": false,
     "input": [
      "from pdfminer.pdfinterp import PDFResourceManager, PDFPageInterpreter\n",
      "from pdfminer.converter import TextConverter\n",
      "from pdfminer.layout import LAParams\n",
      "from pdfminer.pdfpage import PDFPage\n",
      "from cStringIO import StringIO\n",
      "\n",
      "from pdfminer.pdfparser import PDFParser\n",
      "from pdfminer.pdfdocument import PDFDocument\n",
      "from pdfminer.pdfpage import PDFPage\n",
      "from pdfminer.pdfinterp import PDFResourceManager, PDFPageInterpreter\n",
      "from pdfminer.pdfdevice import PDFDevice\n",
      "from pdfminer.layout import LAParams\n",
      "from pdfminer.converter import  TextConverter"
     ],
     "language": "python",
     "metadata": {},
     "outputs": [],
     "prompt_number": 28
    },
    {
     "cell_type": "code",
     "collapsed": false,
     "input": [
      "# Open the url provided as an argument to the function and read the content\n",
      "import urllib2\n",
      "from urllib2 import Request\n",
      "open = urllib2.urlopen(Request(url)).read()\n",
      "\n",
      "# Cast to StringIO object\n",
      "from StringIO import StringIO\n",
      "memory_file = StringIO(open)\n",
      "\n",
      "# Create a PDF parser object associated with the StringIO object\n",
      "parser = PDFParser(memory_file)\n",
      "\n",
      "# Create a PDF document object that stores the document structure\n",
      "document = PDFDocument(parser)\n",
      "\n",
      "# Define parameters to the PDF device objet \n",
      "rsrcmgr = PDFResourceManager()\n",
      "retstr = StringIO()\n",
      "laparams = LAParams()\n",
      "codec = 'utf-8'\n",
      "\n",
      "# Create a PDF device object\n",
      "device = TextConverter(rsrcmgr, retstr, codec = codec, laparams = laparams)\n",
      "\n",
      "# Create a PDF interpreter object\n",
      "interpreter = PDFPageInterpreter(rsrcmgr, device)\n",
      "\n",
      "# Process each page contained in the document\n",
      "texto = ''\n",
      "for page in PDFPage.create_pages(document):\n",
      "    interpreter.process_page(page)\n",
      "    texto +=  retstr.getvalue()\n",
      "\n",
      "print texto\n",
      "        \n",
      "    "
     ],
     "language": "python",
     "metadata": {},
     "outputs": [
      {
       "output_type": "stream",
       "stream": "stdout",
       "text": [
        "Advanced Solutions for Web Transport:\n",
        "\n",
        "Patented Airnertia TM Technology\n",
        "MDR (magnetically driven roller) Technology\n",
        "\n",
        "What are these technologies?  \n",
        "AirnertiaTM offers web transport rollers with reduced moment of inertia.  \n",
        "MDR technology is used on web transport rollers to reduce or eliminate the effects of roller mass, bearing friction, speed \n",
        "changes, and entrained (boundary layer) air.\n",
        "    \n",
        "Why is Martin Automatic Inc offering these technologies? \n",
        "The continuing emphasis for all manufacturers is to do more with less.  This is approached by increasing throughput by in-\n",
        "creasing process web speed and goal is not to increase waste.  At the same time material structures (basis weight) contin-\n",
        "ues to evolve to lower values.  The lower density typically demands lower web tension which is not aligned with increasing \n",
        "web speed.  \n",
        "\n",
        "Martin manufacturers automatic zero-speed splicing unwinds for nonwovens and other extensible webs.  For good reasons, \n",
        "zero-speed splicing (process at speed while splice joint is done with both webs stopped within unwind) is preferred and \n",
        "often necessary method of automatic roll change equipment.   The lower tension and higher speed factors limit speed capa-\n",
        "bility of all automatic splicing zero-speed unwinds.  To overcome these factors MAI introduced and offers the AirnertiaTM and \n",
        "MDR technologies. \n",
        "\n",
        "The benefits :\n",
        "*\t Both technologies are modular so they can be used within all process equipment utilizing rollers for web transport.\n",
        "*\t Higher web speed and/or shorter duration for web speed change\n",
        "*\t Lower web tension \n",
        "*\t Reduced physical size of equipment \n",
        "*\t Reduced waste\n",
        "*\t\n",
        "\n",
        "Increased productivity\n",
        "\n",
        "Where can I get more information?  \n",
        "It is best for you to speak with Martin Automatic Inc to determine how these solutions may be applicable to your particular \n",
        "piece of equipment or process. \n",
        "\n",
        "High Performance Splicing, Rewinding and Tension Control Systems\n",
        "\n",
        "www.martinautomatic.com\n",
        "\n",
        "Martin Automatic Inc   1661 Northrock Court   Rockford, Illinois 61103   tel 815.654.4800   fax 815.654.4810\n",
        "\n",
        "Martin Automatic Europe GmbH   Sonnenbergstrasse 73  D-74626 Bretzfeld-Dimbach   Germany   tel +49.7946.942.881   fax +49.7946.942.396\n",
        "\n",
        "Martin Automatic Asia-Pacific   P.O. Box 87-781   Taipei, Taiwan 105   tel +886.2.27609886   fax +886.2.27609887\n",
        "\n",
        "\f",
        "\n"
       ]
      }
     ],
     "prompt_number": 35
    },
    {
     "cell_type": "code",
     "collapsed": false,
     "input": [
      "response = rdd.get_article_content(url.encode('utf-8')).content"
     ],
     "language": "python",
     "metadata": {},
     "outputs": [],
     "prompt_number": 40
    },
    {
     "cell_type": "code",
     "collapsed": false,
     "input": [
      "HTML('<a href=\"'+ url+'\" >' + url + '</a>')"
     ],
     "language": "python",
     "metadata": {},
     "outputs": [
      {
       "html": [
        "<a href=\"http://www.enginetechnologyinternational.com//news.php?NewsID=62983\" >http://www.enginetechnologyinternational.com//news.php?NewsID=62983</a>"
       ],
       "metadata": {},
       "output_type": "pyout",
       "prompt_number": 41,
       "text": [
        "<IPython.core.display.HTML at 0x7f0cdb748ad0>"
       ]
      }
     ],
     "prompt_number": 41
    },
    {
     "cell_type": "code",
     "collapsed": false,
     "input": [
      "HTML(response['content'])"
     ],
     "language": "python",
     "metadata": {},
     "outputs": [
      {
       "html": [
        "<div><div class=\"element el_mid\">\n",
        "\t\t\t\t\n",
        "\n",
        "\n",
        "\t\t\t\t\t\t\t\t\t\t\t\t\t\t\t\t\t<p><strong>Sakor Technologies to exhibit engine, hybrid vehicle, and battery testing technologies at Automotive Testing Expo 2014 North America</strong></p>\n",
        "\n",
        "\t\t\t\t\t<p>Sakor Technologies, a leading developer of high-performance dynamometer systems, has announced that it will be exhibiting at the Automotive Testing Expo 2014 North America from October 28-30 at the Suburban Collection Showplace in Novi, Michigan. Sakor will be highlighting many of its innovative technologies at booth #13004, including hybrid and electric vehicle testing, high-voltage battery testing and simulation, and the smallest AC regenerative engine dynamometer available in the industry. Technical representatives from Sakor will be present at the booth to offer expertise and answer questions about their products for show attendees.</p>\n",
        "<p>Sakor, which is one of the industry&#x2019;s leaders in developing testing technology for hybrid and electric vehicles, has extensive experience in both electric motor and generator testing as well as engine and powertrain testing. The DynoLAB Test Cell Control System can perform a wide variety of road load profiles and simulations, and is designed for testing to all international standards, including existing and proposed EPA, CARB, and Euro standards.</p>\n",
        "<p>The High Voltage Battery Simulator/Testing System is ideal for customers conducting research and development, performance evaluation, and durability testing of high voltage DC power systems. It can be used for testing high-voltage batteries as well as simulating high-voltage batteries while testing hybrid vehicle drivelines and inverter systems. The High Voltage Battery Test System is fully line regenerative, resulting in a very power efficient unit, minimizing electricity usage, lowering operating costs, and providing an extremely environmentally friendly profile.</p>\n",
        "<p>The new Small Engine AC Motoring Dynamometer is the smallest available on the market today. It is further differentiated by its ultra-low inertia properties, and the ability to convert easily between horizontal and vertical orientations, accommodating either shaft orientation.<br>\n",
        "The Small Engine Dynamometer was developed specifically to meet the needs of small engine manufacturers who must now comply with engine testing procedures required by emission standards contained in 40 CFR Part 1065. This innovative machine can test both steady state and transient emissions cycles, and allows users to avoid the issues associated with larger dynamometers, such as breaking of driveshafts or couplings.</p>\n",
        "<p>Sakor&#x2019;s alternative energy testing systems work with a variety of alternative energy technologies, including turbines and generators powered by wind and tidal energy, and also fuel cells.</p>\n",
        "<p>Held at the Suburban Collection Showplace in Novi, Michigan on October 28, 29 and 30, the twelfth Automotive Testing Expo North America will enable visitors to see the very latest technologies and services that are designed to ensure that the highest standards are met in terms of product quality, reliability, durability and safety. Over 270 exhibiting companies will be out to demonstrate that their products are able to help with the ultimate aim of eliminating recalls.</p>\n",
        "<p>In addition, the Automotive Testing Expo North America will once again be co-located with Engine Expo North America, following on from the latter&#x2019;s hugely successful launch. Find more details of the shows at <a href=\"http://www.testing-expo.com/usa/\">www.testing-expo.com/usa</a> and <a href=\"http://www.engine-expo.com/usa/\">www.engine-expo.com/usa</a>.</p>\t\t\t\t\t\n",
        "\n",
        "\t\t\t\t\t\n",
        "\t\t\t\t\n",
        "\t\t\t\t\n",
        "\t\t\t\t<br class=\"breaker\">\n",
        "\t\t\t\t\n",
        "                 <div><img src=\"http://www.enginetechnologyinternational.com//images/mid_btm_curve.gif\"></div>\n",
        "\t\t\t</div>\t\t\t\t\t\t\t\n",
        "\t\t\t</div>"
       ],
       "metadata": {},
       "output_type": "pyout",
       "prompt_number": 42,
       "text": [
        "<IPython.core.display.HTML at 0x7f0cdb7488d0>"
       ]
      }
     ],
     "prompt_number": 42
    },
    {
     "cell_type": "code",
     "collapsed": false,
     "input": [
      "for key in response.keys():\n",
      "    if key != 'content':\n",
      "        print \"%s: %s\" % (key,response[key])"
     ],
     "language": "python",
     "metadata": {},
     "outputs": [
      {
       "output_type": "stream",
       "stream": "stdout",
       "text": [
        "domain: www.enginetechnologyinternational.com\n",
        "author: None\n",
        "url: http://www.enginetechnologyinternational.com//news.php?NewsID=62983\n",
        "short_url: http://rdd.me/g3n6fw3d\n",
        "title: Latest News\n",
        "excerpt: Sakor Technologies to exhibit engine, hybrid vehicle, and battery testing technologies at Automotive Testing Expo 2014 North America Sakor Technologies, a leading developer of high-performance&hellip;\n",
        "direction: ltr\n",
        "word_count: 495\n",
        "total_pages: 0\n",
        "next_page_id: None\n",
        "dek: None\n",
        "lead_image_url: None\n",
        "rendered_pages: 1\n",
        "date_published: None\n"
       ]
      }
     ],
     "prompt_number": 46
    },
    {
     "cell_type": "code",
     "collapsed": false,
     "input": [
      "print fix_text(response['excerpt'])"
     ],
     "language": "python",
     "metadata": {},
     "outputs": [
      {
       "output_type": "stream",
       "stream": "stdout",
       "text": [
        "Sakor Technologies to exhibit engine, hybrid vehicle, and battery testing technologies at Automotive Testing Expo 2014 North America Sakor Technologies, a leading developer of high-performance...\n"
       ]
      }
     ],
     "prompt_number": 47
    },
    {
     "cell_type": "code",
     "collapsed": false,
     "input": [
      "g = Goose()"
     ],
     "language": "python",
     "metadata": {},
     "outputs": [],
     "prompt_number": 48
    },
    {
     "cell_type": "code",
     "collapsed": false,
     "input": [
      "g_res = g.extract(url=url.encode('utf-8'))"
     ],
     "language": "python",
     "metadata": {},
     "outputs": [],
     "prompt_number": 49
    },
    {
     "cell_type": "code",
     "collapsed": false,
     "input": [
      "g_res.title"
     ],
     "language": "python",
     "metadata": {},
     "outputs": [
      {
       "metadata": {},
       "output_type": "pyout",
       "prompt_number": 50,
       "text": [
        "u'Engine Technology International'"
       ]
      }
     ],
     "prompt_number": 50
    },
    {
     "cell_type": "code",
     "collapsed": false,
     "input": [
      "print fix_text(g_res.cleaned_text)"
     ],
     "language": "python",
     "metadata": {},
     "outputs": [
      {
       "output_type": "stream",
       "stream": "stdout",
       "text": [
        "Sakor Technologies to exhibit engine, hybrid vehicle, and battery testing technologies at Automotive Testing Expo 2014 North America\n",
        "\n",
        "Sakor Technologies, a leading developer of high-performance dynamometer systems, has announced that it will be exhibiting at the Automotive Testing Expo 2014 North America from October 28-30 at the Suburban Collection Showplace in Novi, Michigan. Sakor will be highlighting many of its innovative technologies at booth #13004, including hybrid and electric vehicle testing, high-voltage battery testing and simulation, and the smallest AC regenerative engine dynamometer available in the industry. Technical representatives from Sakor will be present at the booth to offer expertise and answer questions about their products for show attendees.\n",
        "\n",
        "Sakor, which is one of the industry's leaders in developing testing technology for hybrid and electric vehicles, has extensive experience in both electric motor and generator testing as well as engine and powertrain testing. The DynoLAB Test Cell Control System can perform a wide variety of road load profiles and simulations, and is designed for testing to all international standards, including existing and proposed EPA, CARB, and Euro standards.\n",
        "\n",
        "The High Voltage Battery Simulator/Testing System is ideal for customers conducting research and development, performance evaluation, and durability testing of high voltage DC power systems. It can be used for testing high-voltage batteries as well as simulating high-voltage batteries while testing hybrid vehicle drivelines and inverter systems. The High Voltage Battery Test System is fully line regenerative, resulting in a very power efficient unit, minimizing electricity usage, lowering operating costs, and providing an extremely environmentally friendly profile.\n",
        "\n",
        "The new Small Engine AC Motoring Dynamometer is the smallest available on the market today. It is further differentiated by its ultra-low inertia properties, and the ability to convert easily between horizontal and vertical orientations, accommodating either shaft orientation.\n",
        "\n",
        " The Small Engine Dynamometer was developed specifically to meet the needs of small engine manufacturers who must now comply with engine testing procedures required by emission standards contained in 40 CFR Part 1065. This innovative machine can test both steady state and transient emissions cycles, and allows users to avoid the issues associated with larger dynamometers, such as breaking of driveshafts or couplings.\n",
        "\n",
        "Sakor's alternative energy testing systems work with a variety of alternative energy technologies, including turbines and generators powered by wind and tidal energy, and also fuel cells.\n",
        "\n",
        "Held at the Suburban Collection Showplace in Novi, Michigan on October 28, 29 and 30, the twelfth Automotive Testing Expo North America will enable visitors to see the very latest technologies and services that are designed to ensure that the highest standards are met in terms of product quality, reliability, durability and safety. Over 270 exhibiting companies will be out to demonstrate that their products are able to help with the ultimate aim of eliminating recalls.\n",
        "\n",
        "In addition, the Automotive Testing Expo North America will once again be co-located with Engine Expo North America, following on from the latter's hugely successful launch. Find more details of the shows at www.testing-expo.com/usa and www.engine-expo.com/usa.\n"
       ]
      }
     ],
     "prompt_number": 51
    },
    {
     "cell_type": "code",
     "collapsed": false,
     "input": [
      "g_res.meta_keywords"
     ],
     "language": "python",
     "metadata": {},
     "outputs": [
      {
       "metadata": {},
       "output_type": "pyout",
       "prompt_number": 53,
       "text": [
        "''"
       ]
      }
     ],
     "prompt_number": 53
    },
    {
     "cell_type": "code",
     "collapsed": false,
     "input": [
      "g_res.tags"
     ],
     "language": "python",
     "metadata": {},
     "outputs": [
      {
       "metadata": {},
       "output_type": "pyout",
       "prompt_number": 54,
       "text": [
        "set()"
       ]
      }
     ],
     "prompt_number": 54
    },
    {
     "cell_type": "code",
     "collapsed": false,
     "input": [
      "g_res.meta_lang"
     ],
     "language": "python",
     "metadata": {},
     "outputs": [
      {
       "metadata": {},
       "output_type": "pyout",
       "prompt_number": 55,
       "text": [
        "'en'"
       ]
      }
     ],
     "prompt_number": 55
    },
    {
     "cell_type": "code",
     "collapsed": false,
     "input": [
      "g_res.publish_date"
     ],
     "language": "python",
     "metadata": {},
     "outputs": [],
     "prompt_number": 56
    },
    {
     "cell_type": "code",
     "collapsed": false,
     "input": [
      "g_res.doc.text"
     ],
     "language": "python",
     "metadata": {},
     "outputs": [
      {
       "metadata": {},
       "output_type": "pyout",
       "prompt_number": 57,
       "text": [
        "'\\n'"
       ]
      }
     ],
     "prompt_number": 57
    },
    {
     "cell_type": "code",
     "collapsed": false,
     "input": [
      "summaries=SummarizeUrl(url.encode('utf-8'))"
     ],
     "language": "python",
     "metadata": {},
     "outputs": [],
     "prompt_number": 58
    },
    {
     "cell_type": "code",
     "collapsed": false,
     "input": [
      "for s in summaries:\n",
      "    print (s)"
     ],
     "language": "python",
     "metadata": {},
     "outputs": [
      {
       "output_type": "stream",
       "stream": "stdout",
       "text": [
        "In addition, the Automotive Testing Expo North America will once again be co-located with Engine Expo North America, following on from the latter\u2019s hugely successful launch.\n",
        "The Small Engine Dynamometer was developed specifically to meet the needs of small engine manufacturers who must now comply with engine testing procedures required by emission standards contained in 40 CFR Part 1065.\n",
        "Sakor, which is one of the industry\u2019s leaders in developing testing technology for hybrid and electric vehicles, has extensive experience in both electric motor and generator testing as well as engine and powertrain testing.\n",
        "It can be used for testing high-voltage batteries as well as simulating high-voltage batteries while testing hybrid vehicle drivelines and inverter systems.\n",
        "Sakor will be highlighting many of its innovative technologies at booth #13004, including hybrid and electric vehicle testing, high-voltage battery testing and simulation, and the smallest AC regenerative engine dynamometer available in the industry.\n"
       ]
      }
     ],
     "prompt_number": 59
    },
    {
     "cell_type": "code",
     "collapsed": false,
     "input": [],
     "language": "python",
     "metadata": {},
     "outputs": []
    }
   ],
   "metadata": {}
  }
 ]
}